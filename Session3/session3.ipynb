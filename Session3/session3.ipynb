{
  "nbformat": 4,
  "nbformat_minor": 0,
  "metadata": {
    "colab": {
      "name": "session3.ipynb",
      "provenance": [],
      "collapsed_sections": [],
      "authorship_tag": "ABX9TyOybIGe7DzaRGiiTYXU6q3f",
      "include_colab_link": true
    },
    "kernelspec": {
      "name": "python3",
      "display_name": "Python 3"
    }
  },
  "cells": [
    {
      "cell_type": "markdown",
      "metadata": {
        "id": "view-in-github",
        "colab_type": "text"
      },
      "source": [
        "<a href=\"https://colab.research.google.com/github/shubhamk16/NLP_END_Program/blob/main/Session3/session3.ipynb\" target=\"_parent\"><img src=\"https://colab.research.google.com/assets/colab-badge.svg\" alt=\"Open In Colab\"/></a>"
      ]
    },
    {
      "cell_type": "markdown",
      "metadata": {
        "id": "0QgQUAi1sAIT"
      },
      "source": [
        "# Session 3 - Advanced Python for General Computing & NLP "
      ]
    },
    {
      "cell_type": "markdown",
      "metadata": {
        "id": "ulN5lEU3r-80"
      },
      "source": [
        "### Que.1 Write a function using only list filter lambda that can tell whether a number is a Fibonacci number or not. \n",
        "\n",
        "### You can use a pre-calculated list/dict to store fab numbers till 10000"
      ]
    },
    {
      "cell_type": "code",
      "metadata": {
        "id": "My9ilPJKtbQB",
        "outputId": "887b8f4d-097e-4019-e0d8-5273fe156c50",
        "colab": {
          "base_uri": "https://localhost:8080/"
        }
      },
      "source": [
        "def fibonacci_no(number):\n",
        "  a = 0\n",
        "  b = 1\n",
        "  fibonacci_numbers=[a, b]\n",
        "  while b < number:\n",
        "      a, b = b, a+b\n",
        "      fibonacci_numbers.append(b)\n",
        "  return fibonacci_numbers\n",
        "\n",
        "fibonacci_list = fibonacci_no(10000)\n",
        "\n",
        "def validateFib(n):\n",
        "    return bool(list(filter(lambda x : x==n, fibonacci_list)))\n",
        "\n",
        "print(validateFib(8))"
      ],
      "execution_count": null,
      "outputs": [
        {
          "output_type": "stream",
          "text": [
            "True\n"
          ],
          "name": "stdout"
        }
      ]
    },
    {
      "cell_type": "markdown",
      "metadata": {
        "id": "bYbeUJjnvo0H"
      },
      "source": [
        "### Que2 Using list comprehension (and zip/ lambda/etc if required) write five different expressions that:\n",
        "\n",
        "1. add 2 iterables a and b such that a is even and b is odd\n",
        "2. strips every vowel from a string provided (tsai>>t s)\n",
        "3. acts like a ReLU function for a 1D array\n",
        "4. acts like a sigmoid function for a 1D array\n",
        "5. takes a small character string and shifts all characters by 5 (handle boundary conditions) tsai>> yxfn"
      ]
    },
    {
      "cell_type": "markdown",
      "metadata": {
        "id": "lplyWE_FwEnD"
      },
      "source": [
        "#### 1) add 2 iterables a and b such that a is even and b is odd"
      ]
    },
    {
      "cell_type": "code",
      "metadata": {
        "id": "MNyLoWaEsRYu",
        "outputId": "4053aad5-25d6-405d-bff0-c5aacd72edf3",
        "colab": {
          "base_uri": "https://localhost:8080/"
        }
      },
      "source": [
        "even = [ x for x in range(20) if x %2==0]\n",
        "print(f'even numbers are: {even}')\n",
        "\n",
        "odd = [ x for x in range(20) if x %2==1]\n",
        "print(f'odd numbers are: {odd}')\n",
        "\n",
        "add = list(map(lambda x,y: x+y, even,odd))\n",
        "print(f'addition of add and even numbers {add}')"
      ],
      "execution_count": null,
      "outputs": [
        {
          "output_type": "stream",
          "text": [
            "even numbers are: [0, 2, 4, 6, 8, 10, 12, 14, 16, 18]\n",
            "odd numbers are: [1, 3, 5, 7, 9, 11, 13, 15, 17, 19]\n",
            "addition of add and even numbers [1, 5, 9, 13, 17, 21, 25, 29, 33, 37]\n"
          ],
          "name": "stdout"
        }
      ]
    },
    {
      "cell_type": "markdown",
      "metadata": {
        "id": "JgcMjQgiw3-7"
      },
      "source": [
        "#### 2) strips every vowel from a string provided (tsai>>t s)"
      ]
    },
    {
      "cell_type": "code",
      "metadata": {
        "id": "6ezP9O8Lsjoj",
        "outputId": "27138980-7c95-4b5b-a851-786c5b33fa13",
        "colab": {
          "base_uri": "https://localhost:8080/"
        }
      },
      "source": [
        "str= ['a','e','i','o','u']\n",
        "input=\"tsai\"\n",
        "without_vowel = [ x for x in input[0:len(input)] if x not in str]\n",
        "print(f'output after stripping every vowel from a string provided: {without_vowel}')"
      ],
      "execution_count": null,
      "outputs": [
        {
          "output_type": "stream",
          "text": [
            "output after stripping every vowel from a string provided: ['t', 's']\n"
          ],
          "name": "stdout"
        }
      ]
    },
    {
      "cell_type": "markdown",
      "metadata": {
        "id": "NCxLgNtBxlCr"
      },
      "source": [
        "#### 3)acts like a ReLU function for a 1D **array**"
      ]
    },
    {
      "cell_type": "code",
      "metadata": {
        "id": "U_SEgQoxxPHz",
        "outputId": "d964a898-bcd5-4f3f-b0ca-5e644a87ac67",
        "colab": {
          "base_uri": "https://localhost:8080/"
        }
      },
      "source": [
        "input_array = [1,-20,-2,3,4,6,8,-10]\n",
        "relu_output = [0 if x < 0 else x for x in input_array  ]\n",
        "relu_output"
      ],
      "execution_count": null,
      "outputs": [
        {
          "output_type": "execute_result",
          "data": {
            "text/plain": [
              "[1, 0, 0, 3, 4, 6, 8, 0]"
            ]
          },
          "metadata": {
            "tags": []
          },
          "execution_count": 4
        }
      ]
    },
    {
      "cell_type": "markdown",
      "metadata": {
        "id": "iIOOsGb-x__f"
      },
      "source": [
        "#### 4) takes a small character string and shifts all characters by 5 (handle boundary conditions) tsai>>yxfn\n"
      ]
    },
    {
      "cell_type": "code",
      "metadata": {
        "id": "tVE-PcBTx72a",
        "outputId": "b0e16c82-9a79-4342-eac9-b86c7f2526e9",
        "colab": {
          "base_uri": "https://localhost:8080/"
        }
      },
      "source": [
        "input =\"tsai\"\n",
        "k = [ chr(ord(x)+5)  for x in input[0:len(input)] ]\n",
        "print(k)"
      ],
      "execution_count": null,
      "outputs": [
        {
          "output_type": "stream",
          "text": [
            "['y', 'x', 'f', 'n']\n"
          ],
          "name": "stdout"
        }
      ]
    },
    {
      "cell_type": "markdown",
      "metadata": {
        "id": "ChindgofyXbR"
      },
      "source": [
        "#### 5) acts like a sigmoid function for a 1D array"
      ]
    },
    {
      "cell_type": "code",
      "metadata": {
        "id": "SvbNSk3tyKns",
        "outputId": "551795f4-cd2f-4c2b-ec55-8b86fb6b08a3",
        "colab": {
          "base_uri": "https://localhost:8080/"
        }
      },
      "source": [
        "import numpy as np\n",
        "\n",
        "input_array = [1,4,6,8]\n",
        "\n",
        "sigmoid_output = lambda x: (1/(1 + np.exp(-x)))\n",
        "\n",
        "for i in input_array:\n",
        "  print(sigmoid_output(i))"
      ],
      "execution_count": null,
      "outputs": [
        {
          "output_type": "stream",
          "text": [
            "0.7310585786300049\n",
            "0.9820137900379085\n",
            "0.9975273768433653\n",
            "0.9996646498695336\n"
          ],
          "name": "stdout"
        }
      ]
    },
    {
      "cell_type": "markdown",
      "metadata": {
        "id": "glqDmww804EK"
      },
      "source": [
        "### Que.3 A list comprehension expression that takes a ~200 word paragraph (write your own paragraph to check), and checks whether it has any of the swear words mentioned in https://github.com/RobertJGabriel/Google-profanity-words/blob/master/list.txt PTS:200"
      ]
    },
    {
      "cell_type": "code",
      "metadata": {
        "id": "UUu49kGOzQ3V",
        "outputId": "3b2e0635-d09a-48cf-bed1-63fa129ae85e",
        "colab": {
          "base_uri": "https://localhost:8080/"
        }
      },
      "source": [
        "from google.colab import drive\n",
        "drive.mount('/content/gdrive')"
      ],
      "execution_count": null,
      "outputs": [
        {
          "output_type": "stream",
          "text": [
            "Drive already mounted at /content/gdrive; to attempt to forcibly remount, call drive.mount(\"/content/gdrive\", force_remount=True).\n"
          ],
          "name": "stdout"
        }
      ]
    },
    {
      "cell_type": "code",
      "metadata": {
        "id": "8b65EGh01WMt"
      },
      "source": [
        "import os\n",
        "os.chdir('gdrive/My Drive/NLP_END_program/session3')"
      ],
      "execution_count": null,
      "outputs": []
    },
    {
      "cell_type": "code",
      "metadata": {
        "id": "8CvT2J7Rz9Ty",
        "outputId": "737f9201-b2f8-4c18-e083-7bf9c2b37715",
        "colab": {
          "base_uri": "https://localhost:8080/"
        }
      },
      "source": [
        "slang_words = \"slang_words.txt\"\n",
        "with open(slang_words, \"r\") as file1:\n",
        "     lines=[]\n",
        "     for line in file1:\n",
        "          lines.append(line.split(\"\\n\")[0])\n",
        "          \n",
        "print(lines)"
      ],
      "execution_count": null,
      "outputs": [
        {
          "output_type": "stream",
          "text": [
            "['Skip to content', 'Why GitHub? ', 'Team', 'Enterprise', 'Explore ', 'Marketplace', 'Pricing ', 'Search', '', 'Sign in', 'Sign up', 'RobertJGabriel', '/', 'Google-profanity-words', '9233146', 'Code', 'Issues', 'Pull requests', '1', 'Actions', 'Projects', 'Security', 'Insights', 'Join GitHub today', 'GitHub is home to over 50 million developers working together to host and review code, manage projects, and build software together.', '', 'Google-profanity-words/list.txt', '', 'Theo Shu buttmuch should be buttmunch', 'Latest commit b0431f6 on Feb 27', ' History', ' 1 contributor', '451 lines (451 sloc)  3.54 KB', '  ', '4r5e', '5h1t', '5hit', 'a55', 'anal', 'anus', 'ar5e', 'arrse', 'arse', 'ass', 'ass-fucker', 'asses', 'assfucker', 'assfukka', 'asshole', 'assholes', 'asswhole', 'a_s_s', 'b!tch', 'b00bs', 'b17ch', 'b1tch', 'ballbag', 'balls', 'ballsack', 'bastard', 'beastial', 'beastiality', 'bellend', 'bestial', 'bestiality', 'bi+ch', 'biatch', 'bitch', 'bitcher', 'bitchers', 'bitches', 'bitchin', 'bitching', 'bloody', 'blow job', 'blowjob', 'blowjobs', 'boiolas', 'bollock', 'bollok', 'boner', 'boob', 'boobs', 'booobs', 'boooobs', 'booooobs', 'booooooobs', 'breasts', 'buceta', 'bugger', 'bum', 'bunny fucker', 'butt', 'butthole', 'buttmunch', 'buttplug', 'c0ck', 'c0cksucker', 'carpet muncher', 'cawk', 'chink', 'cipa', 'cl1t', 'clit', 'clitoris', 'clits', 'cnut', 'cock', 'cock-sucker', 'cockface', 'cockhead', 'cockmunch', 'cockmuncher', 'cocks', 'cocksuck ', 'cocksucked ', 'cocksucker', 'cocksucking', 'cocksucks ', 'cocksuka', 'cocksukka', 'cok', 'cokmuncher', 'coksucka', 'coon', 'cox', 'crap', 'cum', 'cummer', 'cumming', 'cums', 'cumshot', 'cunilingus', 'cunillingus', 'cunnilingus', 'cunt', 'cuntlick ', 'cuntlicker ', 'cuntlicking ', 'cunts', 'cyalis', 'cyberfuc', 'cyberfuck ', 'cyberfucked ', 'cyberfucker', 'cyberfuckers', 'cyberfucking ', 'd1ck', 'damn', 'dick', 'dickhead', 'dildo', 'dildos', 'dink', 'dinks', 'dirsa', 'dlck', 'dog-fucker', 'doggin', 'dogging', 'donkeyribber', 'doosh', 'duche', 'dyke', 'ejaculate', 'ejaculated', 'ejaculates ', 'ejaculating ', 'ejaculatings', 'ejaculation', 'ejakulate', 'f u c k', 'f u c k e r', 'f4nny', 'fag', 'fagging', 'faggitt', 'faggot', 'faggs', 'fagot', 'fagots', 'fags', 'fanny', 'fannyflaps', 'fannyfucker', 'fanyy', 'fatass', 'fcuk', 'fcuker', 'fcuking', 'feck', 'fecker', 'felching', 'fellate', 'fellatio', 'fingerfuck ', 'fingerfucked ', 'fingerfucker ', 'fingerfuckers', 'fingerfucking ', 'fingerfucks ', 'fistfuck', 'fistfucked ', 'fistfucker ', 'fistfuckers ', 'fistfucking ', 'fistfuckings ', 'fistfucks ', 'flange', 'fook', 'fooker', 'fuck', 'fucka', 'fucked', 'fucker', 'fuckers', 'fuckhead', 'fuckheads', 'fuckin', 'fucking', 'fuckings', 'fuckingshitmotherfucker', 'fuckme ', 'fucks', 'fuckwhit', 'fuckwit', 'fudge packer', 'fudgepacker', 'fuk', 'fuker', 'fukker', 'fukkin', 'fuks', 'fukwhit', 'fukwit', 'fux', 'fux0r', 'f_u_c_k', 'gangbang', 'gangbanged ', 'gangbangs ', 'gaylord', 'gaysex', 'goatse', 'God', 'god-dam', 'god-damned', 'goddamn', 'goddamned', 'hardcoresex ', 'hell', 'heshe', 'hoar', 'hoare', 'hoer', 'homo', 'hore', 'horniest', 'horny', 'hotsex', 'jack-off ', 'jackoff', 'jap', 'jerk-off ', 'jism', 'jiz ', 'jizm ', 'jizz', 'kawk', 'knob', 'knobead', 'knobed', 'knobend', 'knobhead', 'knobjocky', 'knobjokey', 'kock', 'kondum', 'kondums', 'kum', 'kummer', 'kumming', 'kums', 'kunilingus', 'l3i+ch', 'l3itch', 'labia', 'lmfao', 'lust', 'lusting', 'm0f0', 'm0fo', 'm45terbate', 'ma5terb8', 'ma5terbate', 'masochist', 'master-bate', 'masterb8', 'masterbat*', 'masterbat3', 'masterbate', 'masterbation', 'masterbations', 'masturbate', 'mo-fo', 'mof0', 'mofo', 'mothafuck', 'mothafucka', 'mothafuckas', 'mothafuckaz', 'mothafucked ', 'mothafucker', 'mothafuckers', 'mothafuckin', 'mothafucking ', 'mothafuckings', 'mothafucks', 'mother fucker', 'motherfuck', 'motherfucked', 'motherfucker', 'motherfuckers', 'motherfuckin', 'motherfucking', 'motherfuckings', 'motherfuckka', 'motherfucks', 'muff', 'mutha', 'muthafecker', 'muthafuckker', 'muther', 'mutherfucker', 'n1gga', 'n1gger', 'nazi', 'nigg3r', 'nigg4h', 'nigga', 'niggah', 'niggas', 'niggaz', 'nigger', 'niggers ', 'nob', 'nob jokey', 'nobhead', 'nobjocky', 'nobjokey', 'numbnuts', 'nutsack', 'orgasim ', 'orgasims ', 'orgasm', 'orgasms ', 'p0rn', 'pawn', 'pecker', 'penis', 'penisfucker', 'phonesex', 'phuck', 'phuk', 'phuked', 'phuking', 'phukked', 'phukking', 'phuks', 'phuq', 'pigfucker', 'pimpis', 'piss', 'pissed', 'pisser', 'pissers', 'pisses ', 'pissflaps', 'pissin ', 'pissing', 'pissoff ', 'poop', 'porn', 'porno', 'pornography', 'pornos', 'prick', 'pricks ', 'pron', 'pube', 'pusse', 'pussi', 'pussies', 'pussy', 'pussys ', 'rectum', 'retard', 'rimjaw', 'rimming', 's hit', 's.o.b.', 'sadist', 'schlong', 'screwing', 'scroat', 'scrote', 'scrotum', 'semen', 'sex', 'sh!+', 'sh!t', 'sh1t', 'shag', 'shagger', 'shaggin', 'shagging', 'shemale', 'shi+', 'shit', 'shitdick', 'shite', 'shited', 'shitey', 'shitfuck', 'shitfull', 'shithead', 'shiting', 'shitings', 'shits', 'shitted', 'shitter', 'shitters ', 'shitting', 'shittings', 'shitty ', 'skank', 'slut', 'sluts', 'smegma', 'smut', 'snatch', 'son-of-a-bitch', 'spac', 'spunk', 's_h_i_t', 't1tt1e5', 't1tties', 'teets', 'teez', 'testical', 'testicle', 'tit', 'titfuck', 'tits', 'titt', 'tittie5', 'tittiefucker', 'titties', 'tittyfuck', 'tittywank', 'titwank', 'tosser', 'turd', 'tw4t', 'twat', 'twathead', 'twatty', 'twunt', 'twunter', 'v14gra', 'v1gra', 'vagina', 'viagra', 'vulva', 'w00se', 'wang', 'wank', 'wanker', 'wanky', 'whoar', 'whore', 'willies', 'willy', 'xrated', 'xxx', '© 2020 GitHub, Inc.', 'Terms', 'Privacy', 'Security', 'Status', 'Help', 'Contact GitHub', 'Pricing', 'API', 'Training', 'Blog', 'About']\n"
          ],
          "name": "stdout"
        }
      ]
    },
    {
      "cell_type": "code",
      "metadata": {
        "id": "1qou4ha_0A55",
        "outputId": "401fbc0e-9bd5-4581-a002-af54964b7d44",
        "colab": {
          "base_uri": "https://localhost:8080/"
        }
      },
      "source": [
        "string =  \"today i met with a bastard cockface person he has a cockHead and behave like an asshole he had a girlfriend whose name is Bitch but good boobs he is just a motherfuck he tries to pronounce that in different forms mothafuck mothafucka mothafuckas mothafuckaz mothafucked mothafucker mothafuckers mothafuckin mothafucks he daily do piss pissed pisser pissed pisses pissflaps pissin pissof He loves to watch porn movies he tried pronounce that in differnt ways porno pornography pornos\"\n",
        "\n",
        "swear_words = [ x for x in string.lower().split(\" \") if x in lines ]\n",
        "\n",
        "print(\"slang words in given paragraph ==>\", swear_words)\n",
        "\n",
        "print(\"Expression that states swear words are present   => \", len(swear_words)>0)"
      ],
      "execution_count": null,
      "outputs": [
        {
          "output_type": "stream",
          "text": [
            "slang words in given paragraph ==> ['bastard', 'cockface', 'cockhead', 'asshole', 'bitch', 'boobs', 'motherfuck', 'mothafuck', 'mothafucka', 'mothafuckas', 'mothafuckaz', 'mothafucker', 'mothafuckers', 'mothafuckin', 'mothafucks', 'piss', 'pissed', 'pisser', 'pissed', 'pissflaps', 'porn', 'porno', 'pornography', 'pornos']\n",
            "Expression that states swear words are present   =>  True\n"
          ],
          "name": "stdout"
        }
      ]
    },
    {
      "cell_type": "markdown",
      "metadata": {
        "id": "-DYb200Z2zPY"
      },
      "source": [
        "### Que.4 Using reduce functions: PTS:100\n",
        "1. add only even numbers in a list\n",
        "2. find the biggest character in a string (printable ascii characters)\n",
        "3. adds every 3rd number in a list"
      ]
    },
    {
      "cell_type": "code",
      "metadata": {
        "id": "KFt3WHYD2Ir8",
        "outputId": "86963a42-6c59-49a7-a0c5-061b89a75ba4",
        "colab": {
          "base_uri": "https://localhost:8080/"
        }
      },
      "source": [
        "# add only even numbers in a list\n",
        "\n",
        "even = [ x for x in range(20)]\n",
        "from functools import reduce\n",
        "ss = reduce(lambda x,y: x+y if not y%2 else x, even,0)\n",
        "\n",
        "print(f'addition of only even numbers in a list: {ss}')"
      ],
      "execution_count": null,
      "outputs": [
        {
          "output_type": "stream",
          "text": [
            "addition of only even numbers in a list: 90\n"
          ],
          "name": "stdout"
        }
      ]
    },
    {
      "cell_type": "code",
      "metadata": {
        "id": "a36WBqVz3JsS",
        "outputId": "d32a13de-9fe6-4e55-e2e2-d2b3e681f78a",
        "colab": {
          "base_uri": "https://localhost:8080/",
          "height": 35
        }
      },
      "source": [
        "#find the biggest character in a string (printable ascii characters)\n",
        "\n",
        "input_string = \"shubham\"\n",
        "def char(stri):\n",
        "      l =[]\n",
        "      for x in stri:\n",
        "          l.append(x)\n",
        "      return l\n",
        "\n",
        "ss = reduce(lambda x,y: x if ord(x) >ord(y) else y , char(input_string))\n",
        "ss"
      ],
      "execution_count": null,
      "outputs": [
        {
          "output_type": "execute_result",
          "data": {
            "application/vnd.google.colaboratory.intrinsic+json": {
              "type": "string"
            },
            "text/plain": [
              "'u'"
            ]
          },
          "metadata": {
            "tags": []
          },
          "execution_count": 12
        }
      ]
    },
    {
      "cell_type": "code",
      "metadata": {
        "id": "ApoVZbPP3cGu",
        "outputId": "a4779442-0f0d-435c-ea65-dc51839a08e7",
        "colab": {
          "base_uri": "https://localhost:8080/"
        }
      },
      "source": [
        "# adds every 3rd number in a list\n",
        "list=[1,2,3,4,5,6,7,8,9,10]\n",
        "k = reduce(lambda x,y: x, list)\n",
        "k"
      ],
      "execution_count": null,
      "outputs": [
        {
          "output_type": "execute_result",
          "data": {
            "text/plain": [
              "1"
            ]
          },
          "metadata": {
            "tags": []
          },
          "execution_count": 13
        }
      ]
    },
    {
      "cell_type": "markdown",
      "metadata": {
        "id": "CAxCTdK84G9G"
      },
      "source": [
        "### Que.5 Using randint, random.choice and list comprehensions, write an expression that generates 15 random KADDAADDDD number plates, where KA is fixed, D stands for a digit, and A stands for Capital alphabets. \n",
        "\n",
        "10<<DD<<99 & 1000<<DDDD<<9999 "
      ]
    },
    {
      "cell_type": "code",
      "metadata": {
        "id": "8Qd0yYbX3xi6",
        "outputId": "59f15588-b12e-4c1f-ce97-86078c277a47",
        "colab": {
          "base_uri": "https://localhost:8080/"
        }
      },
      "source": [
        "import random\n",
        "import string\n",
        "s = \"KA\"\n",
        "int2=random.randint(10,99)\n",
        "\n",
        "def number_plate(random_string):\n",
        "  int4=random.randint(1000,9999)\n",
        "  c = random.choice(string.ascii_uppercase)+random.choice(string.ascii_uppercase)\n",
        "  print((random_string),random.randint(1,100),c,(int4))\n",
        "\n",
        "for i in range(15):\n",
        "  number_plate(\"KA\")"
      ],
      "execution_count": null,
      "outputs": [
        {
          "output_type": "stream",
          "text": [
            "KA 11 JZ 8727\n",
            "KA 34 YM 7748\n",
            "KA 77 RK 2465\n",
            "KA 67 VY 1745\n",
            "KA 23 PL 9397\n",
            "KA 44 RK 4584\n",
            "KA 71 MV 2574\n",
            "KA 67 QD 4469\n",
            "KA 50 FL 6331\n",
            "KA 75 TX 6385\n",
            "KA 90 QC 6925\n",
            "KA 90 FT 4642\n",
            "KA 80 DY 1195\n",
            "KA 2 RG 6785\n",
            "KA 39 DR 2747\n"
          ],
          "name": "stdout"
        }
      ]
    },
    {
      "cell_type": "markdown",
      "metadata": {
        "id": "ZtiGDFE_74sl"
      },
      "source": [
        "### Que.6 Write the above again from scratch where KA can be changed to DL, and 1000/9999 ranges can be provided."
      ]
    },
    {
      "cell_type": "code",
      "metadata": {
        "id": "uSKUaHlJ4Ucr",
        "outputId": "58e8e5a2-15eb-48cd-e48c-044435241eed",
        "colab": {
          "base_uri": "https://localhost:8080/"
        }
      },
      "source": [
        "for i in range(15):\n",
        "  number_plate(\"DL\")"
      ],
      "execution_count": null,
      "outputs": [
        {
          "output_type": "stream",
          "text": [
            "DL 36 KA 8939\n",
            "DL 3 LQ 9522\n",
            "DL 32 IN 5477\n",
            "DL 10 LQ 4796\n",
            "DL 71 RY 1232\n",
            "DL 88 LE 2325\n",
            "DL 93 VH 8202\n",
            "DL 94 ND 1455\n",
            "DL 69 KI 1157\n",
            "DL 24 AB 5643\n",
            "DL 12 ZF 5350\n",
            "DL 96 MV 7894\n",
            "DL 48 RR 8329\n",
            "DL 90 SE 4170\n",
            "DL 58 UF 5961\n"
          ],
          "name": "stdout"
        }
      ]
    }
  ]
}